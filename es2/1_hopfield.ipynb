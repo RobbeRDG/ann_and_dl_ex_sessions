{
 "cells": [
  {
   "cell_type": "code",
   "execution_count": null,
   "id": "c87ae4aa",
   "metadata": {},
   "outputs": [],
   "source": [
    "import sys; sys.path.append('..')\n",
    "\n",
    "import torch\n",
    "import matplotlib.pyplot as plt\n",
    "\n",
    "from lib.models.hopfield import Hopfield\n",
    "from lib.plot.hopfield import plot_hopfield_evolution, converged_to_attractor"
   ]
  },
  {
   "cell_type": "markdown",
   "id": "c7f4baa6",
   "metadata": {},
   "source": [
    "# 1. Hopfield Network\n",
    "\n",
    "A Hopfield recurrent network has one layer of $N$ neurons with a [`hardtanh`](https://pytorch.org/docs/stable/generated/torch.nn.Hardtanh.html#torch.nn.Hardtanh) activation function, and is fully interconnected: each neuron is connected to every other neuron.\n",
    "\n",
    "A Hopfield network is created from a set of *attractors*. When feeding the output for a given input back into the network, the output should converge to one of the attractors. As the attractor is a stable state of the network, the output will not change once an attractor is reached.\n",
    "\n",
    "Let's create a 2-neuron Hopfield network with 3 attractors: $(1, 1)$, $(-1, -1)$ and $(1, -1)$."
   ]
  },
  {
   "cell_type": "code",
   "execution_count": null,
   "id": "26d0d0d4",
   "metadata": {},
   "outputs": [],
   "source": [
    "# Define 3 attractors\n",
    "T = torch.tensor([\n",
    "    [1., 1.],\n",
    "    [-1., -1.],\n",
    "    [1., -1.]\n",
    "])\n",
    "\n",
    "# Create the Hopfield network from the attractors\n",
    "net = Hopfield(T)"
   ]
  },
  {
   "cell_type": "markdown",
   "id": "2a1c6d69",
   "metadata": {},
   "source": [
    "We can now feed some random inputs to the network and see where they evolve to. The attractors of the network are indicated with a cross in the plot."
   ]
  },
  {
   "cell_type": "code",
   "execution_count": null,
   "id": "36fda4a6",
   "metadata": {},
   "outputs": [],
   "source": [
    "# Define 3 random inputs\n",
    "P = torch.tensor([\n",
    "    [0.3, 0.6],\n",
    "    [-0.1, 0.8],\n",
    "    [-1., 0.5],\n",
    "])\n",
    "\n",
    "\n",
    "# Show the evolution during 20 steps\n",
    "plot_hopfield_evolution(net, P, num_steps=20)"
   ]
  },
  {
   "cell_type": "markdown",
   "id": "cd577dd0",
   "metadata": {},
   "source": [
    "## 1.1 A two neuron Hopfield network"
   ]
  },
  {
   "cell_type": "code",
   "execution_count": null,
   "id": "512869d6",
   "metadata": {},
   "outputs": [],
   "source": [
    "# Define a 2-neuron Hopfield network with 2 attractors\n",
    "T1 = torch.tensor([\n",
    "    [1., -1.],\n",
    "    [-1., 1.]\n",
    "])\n",
    "net1 = Hopfield(T1)\n",
    "\n",
    "# Now create 25 random 2D points in range [-1, 1]\n",
    "P = 2*torch.rand((25, 2)) - 1\n",
    "\n",
    "# See how the points evolve\n",
    "plot_hopfield_evolution(net1, P, num_steps=20)"
   ]
  },
  {
   "cell_type": "markdown",
   "id": "71d3a739",
   "metadata": {},
   "source": [
    "Note that if the Hopfield network starts out closer to the upper-left, it will go to the upper-left, and vice versa.  This ability to find the closest memory to an initial input is what makes the Hopfield network useful."
   ]
  },
  {
   "cell_type": "markdown",
   "id": "e9d27060",
   "metadata": {},
   "source": [
    "## 1.2 A Hopfield network with unstable equilibrium\n",
    "\n",
    "Unfortunately, the network has undesired stable points at places other than the corners.  We can see this when we simulate the Hopfield for the five initial weights, `P2`.\n",
    "\n",
    "These points are exactly between the two target stable points. They are attracted by an undesired point in the center of the plot."
   ]
  },
  {
   "cell_type": "code",
   "execution_count": null,
   "id": "054f0be5",
   "metadata": {},
   "outputs": [],
   "source": [
    "# Define a 2-neuron Hopfield network with 2 attractors\n",
    "T2 = torch.tensor([\n",
    "    [1., -1.],\n",
    "    [-1., 1.]\n",
    "])\n",
    "net2 = Hopfield(T2)\n",
    "\n",
    "# Some cherry-picked starting points...\n",
    "P2 = torch.tensor([\n",
    "    [-1.0, -1.0],\n",
    "    [-0.5, -0.5],\n",
    "    [0.0, 0.0],\n",
    "    [0.5, 0.5],\n",
    "    [1.0, 1.0]\n",
    "])\n",
    "\n",
    "# Let's see how they evolve...\n",
    "plot_hopfield_evolution(net2, P2, num_steps=50)"
   ]
  },
  {
   "cell_type": "markdown",
   "id": "41761afc",
   "metadata": {},
   "source": [
    "## 1.3 A three neuron Hopfield network"
   ]
  },
  {
   "cell_type": "code",
   "execution_count": null,
   "id": "65db4196",
   "metadata": {},
   "outputs": [],
   "source": [
    "# Define a 3-neuron Hopfield network with 2 attractors\n",
    "T3 = torch.tensor([\n",
    "    [1., -1., -1.],\n",
    "    [1., 1., -1],\n",
    "])\n",
    "net3 = Hopfield(T3)\n",
    "\n",
    "# Let's see how 25 random inputs evolve...\n",
    "P3a = 2*torch.rand((25, 3)) - 1\n",
    "plot_hopfield_evolution(net3, P3a, num_steps=20)"
   ]
  },
  {
   "cell_type": "markdown",
   "id": "9761b7b0",
   "metadata": {},
   "source": [
    "The points in `P3b` are exactly between the two target stable points. They all move into a point at the center of the line connecting the two attractors."
   ]
  },
  {
   "cell_type": "code",
   "execution_count": null,
   "id": "80f21338",
   "metadata": {
    "scrolled": false
   },
   "outputs": [],
   "source": [
    "# Some cherry-picked starting points...\n",
    "P3b = torch.tensor([\n",
    "    [ 1.0, 0.0, -1.0],\n",
    "    [-1.0, 0.0,  1.0],\n",
    "    [-0.5, 0.0,  0.5],\n",
    "    [ 1.0, 0.0, -1.01],\n",
    "    [ 1.0, 0.0, -1.0],\n",
    "    [ 0.0, 0.0,  0.0],\n",
    "])\n",
    "\n",
    "\n",
    "# Let's see how they evolve...\n",
    "plot_hopfield_evolution(net3, P3b, num_steps=10)"
   ]
  },
  {
   "cell_type": "markdown",
   "id": "c4577767",
   "metadata": {},
   "source": [
    "## 1.4 Spurious stable points\n",
    "\n",
    "Here we define 4 random starting points and simulate the Hopfield network for 50 steps.\n",
    "\n",
    "Some initial conditions will lead to desired stable points.  Others will lead to undesired stable points."
   ]
  },
  {
   "cell_type": "code",
   "execution_count": null,
   "id": "d49c4138",
   "metadata": {},
   "outputs": [],
   "source": [
    "# Define a 5-neuron Hopfield network with 4 attractors\n",
    "T4 = torch.tensor([\n",
    "    [1., -1., -1., 1., -1.],\n",
    "    [1., 1., -1., 1., -1.],\n",
    "    [-1., 1., -1., 1., 1.],\n",
    "    [1., -1., 1., 1., 1.],\n",
    "])\n",
    "net4 = Hopfield(T4)\n",
    "\n",
    "\n",
    "# Now create 4 random 5D points in range [-1, 1]\n",
    "P4 = torch.rand((4, 5))*2 - 1"
   ]
  },
  {
   "cell_type": "markdown",
   "id": "82b37a7f",
   "metadata": {},
   "source": [
    "Of course, we cannot plot a trajectory of 5D points. To run 50 recurrent steps manually, we can use the following `for`-loop."
   ]
  },
  {
   "cell_type": "code",
   "execution_count": null,
   "id": "fcb85297",
   "metadata": {},
   "outputs": [],
   "source": [
    "for _ in range(50):\n",
    "    P4 = net4(P4)"
   ]
  },
  {
   "cell_type": "markdown",
   "id": "bd8bed84",
   "metadata": {},
   "source": [
    "Now `P4` contains the outputs after 50 steps. Let's check them out:"
   ]
  },
  {
   "cell_type": "code",
   "execution_count": null,
   "id": "4c0a0afd",
   "metadata": {},
   "outputs": [],
   "source": [
    "print(P4)"
   ]
  },
  {
   "cell_type": "markdown",
   "id": "db59f4fc",
   "metadata": {},
   "source": [
    "We can check if `P4` converged to any of the attractors of our network with the function `converged_to_attractor()`. It will print, for each vector in `P4` whether or not it has converged."
   ]
  },
  {
   "cell_type": "code",
   "execution_count": null,
   "id": "ac0dd68f",
   "metadata": {},
   "outputs": [],
   "source": [
    "converged_to_attractor(P4, net4.attractors)"
   ]
  },
  {
   "cell_type": "markdown",
   "id": "04292fba",
   "metadata": {},
   "source": [
    "## 1.5 Exercises\n",
    "\n",
    "1. Create a Hopfield network with attractors $(1, 1)$, $(−1, −1)$, $(1, −1)$ and the corresponding number of neurons. Start with various initial vectors and note down the obtained attractors after a sufficient number of iterations.\n",
    "  - Are the real attractors the same as those used to create the network? If not, why do we get these unwanted attractors?\n",
    "  - How many iterations does it typically take to reach the attractor?\n",
    "  - What can you say about the stability of the attractors?\n",
    "2. Do the same for  a Hopfield network with attractors $(1, 1, 1)$, $(−1, −1, 1)$, $(1, −1, -1)$.\n",
    "3. The function `hopdigit()` creates a Hopfield network which has as attractors the handwritten digits $0,\\ldots, 9$. To test the ability of the network to correctly retrieve these patterns, some noisy digits are given to the network.\n",
    "  - Is the Hopfield model always able to reconstruct the noisy digits? If not why?\n",
    "  - What is the influence of the noise on the number of iterations?\n",
    "\n",
    "You can call the function by typing:\n",
    "```python\n",
    "from lib.widgets.hopdigit import hopdigit\n",
    "\n",
    "hopdigit(noise_level, num_steps)\n",
    "```\n",
    "\n",
    "where:\n",
    "\n",
    "- `noise_level` represents the level of noise that will corrupt the digits and is a positive number.\n",
    "- `num_steps` is the number of iterations the Hopfield network (having as input the noisy digits) will run.\n",
    "\n",
    "Try to answer the above question by playing with these two parameters."
   ]
  },
  {
   "cell_type": "code",
   "execution_count": null,
   "id": "bd3e23c8",
   "metadata": {},
   "outputs": [],
   "source": []
  }
 ],
 "metadata": {
  "kernelspec": {
   "display_name": "Python 3 (ipykernel)",
   "language": "python",
   "name": "python3"
  },
  "language_info": {
   "codemirror_mode": {
    "name": "ipython",
    "version": 3
   },
   "file_extension": ".py",
   "mimetype": "text/x-python",
   "name": "python",
   "nbconvert_exporter": "python",
   "pygments_lexer": "ipython3",
   "version": "3.10.6"
  }
 },
 "nbformat": 4,
 "nbformat_minor": 5
}
