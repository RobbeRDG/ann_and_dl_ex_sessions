{
 "cells": [
  {
   "cell_type": "code",
   "execution_count": null,
   "id": "dd32dda2",
   "metadata": {},
   "outputs": [],
   "source": [
    "from datetime import datetime\n",
    "import sys; sys.path.append('..')\n",
    "\n",
    "import matplotlib.pyplot as plt\n",
    "import torch\n",
    "from torch import nn, optim\n",
    "from torch.utils.tensorboard import SummaryWriter\n",
    "from tqdm.notebook import tqdm\n",
    "\n",
    "from lib.data.santa_fe import load_santa_fe\n",
    "from lib.models.mlp import MLP\n",
    "from lib.utils.time_series import create_time_series_inputs_targets"
   ]
  },
  {
   "cell_type": "markdown",
   "id": "ced9beea",
   "metadata": {},
   "source": [
    "# 2. Time-Series Prediction with a Neural Network\n",
    "\n",
    "A time series is a sequence of observations, ordered in time. Forecasting involves training a model on historical data and using them to predict future observations. A simple example is a linear auto-regressive model. The linear auto-regressive (AR) model of a time-series $Z_t$ with $t = 1, 2,\\ldots,\\infty$ is given by:\n",
    "\n",
    "$$\n",
    "\\hat{z}_t = a_1 z_{t-1} + a_2 z_{t-2} + \\cdots + a_p z_{t-p},\n",
    "$$\n",
    "\n",
    "with $a_i \\in \\mathbb{R}$ for $i = 1,\\ldots, p$ and $p$ the *model lag*. The prediction for a certain time $t$ is equal to a weighted sum of the previous values up to a certain lag $p$. In a similar way, the nonlinear variant (NAR) is described as:\n",
    "\n",
    "$$\n",
    "\\hat{z}_t = f\\left(z_{t-1}, z_{t-2}, \\ldots, z_{t-p}\\right).\n",
    "$$\n",
    "\n",
    "These processes can be depicted as follows (lag $p=2$):\n",
    "\n",
    "<img alt=\"Schematic representation of the nonlinear auto-regressive model with lag p = 2.\" src=\" data:image/png;base64,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\"/>\n",
    "\n",
    "Remark that in this way, the time-series identification can be written as a classical black-box regression modeling problem:\n",
    "\n",
    "$$\n",
    "\\hat{y}_t = f(x_t) ,\n",
    "$$\n",
    "\n",
    "with $y_t = z_t$ and $x_t = [z_{t−1}, z_{t−2}, \\ldots , z_{t−p}]$."
   ]
  },
  {
   "cell_type": "markdown",
   "id": "491ea62d",
   "metadata": {},
   "source": [
    "## 2.1 Sante Fe Dataset\n",
    "\n",
    "The Santa Fe dataset is obtained from a chaotic laser which can be described as a nonlinear dynamical system. Given are 1000 training data points. The aim is to predict the next 100 points (it is forbidden to include these points in the training set!).\n",
    "\n",
    "To load the test and training data, you can execute the cell below."
   ]
  },
  {
   "cell_type": "code",
   "execution_count": null,
   "id": "17e1f1df",
   "metadata": {},
   "outputs": [],
   "source": [
    "train_set, val_set = load_santa_fe()"
   ]
  },
  {
   "cell_type": "markdown",
   "id": "37e7f612",
   "metadata": {},
   "source": [
    "You can visualize the time series with the following code:"
   ]
  },
  {
   "cell_type": "code",
   "execution_count": null,
   "id": "04707207",
   "metadata": {},
   "outputs": [],
   "source": [
    "# Create Matplotlib figure and axes\n",
    "fig, axes = plt.subplots(ncols=2, figsize=(12, 5))\n",
    "\n",
    "# Plot the training set in the left subplot\n",
    "axes[0].set_title(\"Training set\")\n",
    "axes[0].plot(train_set)\n",
    "\n",
    "# Plot the validation set in the right subplot\n",
    "axes[1].set_title(\"Validation set\")\n",
    "axes[1].plot(val_set);"
   ]
  },
  {
   "cell_type": "markdown",
   "id": "ddaa4b8b",
   "metadata": {},
   "source": [
    "As you can see, the data spans a large range. To make it easier for our network to fit the data, we can *normalize* the data by subtracting the mean and dividing by the data's standard deviation. You can compute the mean and norm of a tensor `t` easily with the following method calls:\n",
    "\n",
    "```python\n",
    "t.mean()  # Returns the mean of t\n",
    "t.std()  # Returns the standard deviation of t\n",
    "```\n",
    "\n",
    "Use this to normalize the training and validation data. Note that you should use the mean and std of the training set to normalize both the training *and* the validation dataset."
   ]
  },
  {
   "cell_type": "code",
   "execution_count": null,
   "id": "220b7d91",
   "metadata": {},
   "outputs": [],
   "source": [
    "## Put your code in this cell ##"
   ]
  },
  {
   "cell_type": "markdown",
   "id": "8910104e",
   "metadata": {},
   "source": [
    "## 2.2 Creating an MLP for Time-Series Prediction\n",
    "\n",
    "An MLP for time-series prediction has $p$ inputs (the lag) and a single output. Using the `MLP` class from the previous exercise session (we have already imported it for you), create an MLP for time series prediction with a lag of 10 and 5 hidden neurons."
   ]
  },
  {
   "cell_type": "code",
   "execution_count": null,
   "id": "a394bcfd",
   "metadata": {},
   "outputs": [],
   "source": [
    "## Create an MLP for time series prediction ##"
   ]
  },
  {
   "cell_type": "markdown",
   "id": "1bf977a8",
   "metadata": {},
   "source": [
    "## 2.3 Training the MLP\n",
    "\n",
    "The training is done in feedforward mode:\n",
    "\n",
    "$$\n",
    "\\hat{y}_k = w^T \\tanh\\left(V[y_{k−1}, y_{k−2},\\ldots, y_{k−p}] + \\beta\\right).\n",
    "$$\n",
    "\n",
    "We pass in $p$ successive data points from the time series and the model should predict the next data point. By comparing the predicted output with the true data point (e.g., via mean-squared error), we can compute a loss and train the network.\n",
    "\n",
    "So, before we can start training, we will need a bunch of successive data points of length $p$ (the inputs), along with the data point that comes right after each sequence (the targets). To create these inputs and targets, you can use the provided function `create_time_series_inputs_targets()`. For example, to create a dataset with inputs and the corresponding targets for a network with a lag of 10, you can run the following code:\n",
    "\n",
    "```python\n",
    "inputs, targets = create_time_series_inputs_targets(my_time_series, 10)\n",
    "```\n",
    "\n",
    "where `my_time_series` is your time series (1D tensor). Make sure you understand what the function does by trying it out on a small self-made toy example."
   ]
  },
  {
   "cell_type": "code",
   "execution_count": null,
   "id": "cfea76a7",
   "metadata": {},
   "outputs": [],
   "source": [
    "## Create train_inputs and train_targets from the training dataset ##"
   ]
  },
  {
   "cell_type": "markdown",
   "id": "a409c019",
   "metadata": {},
   "source": [
    "The `train_inputs` you have created in the previous cell can be used as a batch of training input data for the MLP. When passing this to the MLP, you will get a batch of predicted outputs, which can be compared with the ground-truth `train_targets`. From this, we can compute a loss value that can be optimized with gradient descent.\n",
    "\n",
    "Now, write a `training_step()` function, based on the one from notebook `2_mlp.ipynb` of the previous exercise session. Define a suitable optimizer and loss function. Also define a `SummaryWriter` for the TensorBoard logs."
   ]
  },
  {
   "cell_type": "code",
   "execution_count": null,
   "id": "c2ce9500",
   "metadata": {},
   "outputs": [],
   "source": [
    "## Write your training_step() function here ##"
   ]
  },
  {
   "cell_type": "code",
   "execution_count": null,
   "id": "e85c6cf0",
   "metadata": {},
   "outputs": [],
   "source": [
    "## Define optimizer, loss function and writer here ##"
   ]
  },
  {
   "cell_type": "markdown",
   "id": "098cc6b2",
   "metadata": {},
   "source": [
    "Now you can train your network with the following loop. Don't forget to define the number of epochs. Note that `train_inputs` and `train_targets` should have been created with `create_time_series_inputs_targets()`."
   ]
  },
  {
   "cell_type": "code",
   "execution_count": null,
   "id": "a6c66ea5",
   "metadata": {},
   "outputs": [],
   "source": [
    "for epoch in tqdm(range(NUM_EPOCHS)):\n",
    "    # Run training\n",
    "    training_step(mlp, train_inputs, train_targets, loss_fn, optimizer, writer, epoch)"
   ]
  },
  {
   "cell_type": "markdown",
   "id": "4e9f487b",
   "metadata": {},
   "source": [
    "## 2.4 Making Time-Series Predictions\n",
    "\n",
    "In order to make predictions, the trained network is used in an iterative way as a recurrent network:\n",
    "\n",
    "$$\n",
    "\\hat{y}_k = w^T \\tanh\\left(V[\\hat y_{k−1}, \\hat y_{k−2},\\ldots, \\hat y_{k−p}] + \\beta\\right).\n",
    "$$\n",
    "\n",
    "As you can see, predictions from a previous time step ($\\hat y_{k−*}$) are used to predict the output of the current time step. Indeed, to run a trained MLP for predicting a new time series, we must run the model *recurrently*. Complete the following implementation.\n",
    "\n",
    "```python\n",
    "@torch.no_grad()\n",
    "def run_recurrent_model(model, x_0, num_iters):\n",
    "    \"\"\"\n",
    "    Create a time series by recurrenctly feeding the output back into the input.\n",
    "    \"\"\"\n",
    "    # Create a tensor to store the outputs in\n",
    "    outputs = torch.zeros(num_iters)\n",
    "\n",
    "    x_t = x_0\n",
    "    for t in range(num_iters):\n",
    "        # Compute the next value\n",
    "        y_t = model(x_t)\n",
    "\n",
    "        # Store the output\n",
    "        outputs[t] = y_t\n",
    "\n",
    "        # Create the input for the next time\n",
    "        x_t = torch.cat([x_t[??], y_t]) # Shift the previous input and concatenate the output\n",
    "\n",
    "    return outputs\n",
    "```"
   ]
  },
  {
   "cell_type": "code",
   "execution_count": null,
   "id": "d9d6c304",
   "metadata": {},
   "outputs": [],
   "source": [
    "## Paste your implementation in this cell ##"
   ]
  },
  {
   "cell_type": "markdown",
   "id": "40ff6156",
   "metadata": {},
   "source": [
    "In order to evaluate your MLP on the validation set, you can pass in the training dataset in `run_recurrent_model()` and compare the output with the time series in the validation set. Use the mean squared error for your comparison."
   ]
  },
  {
   "cell_type": "code",
   "execution_count": null,
   "id": "bd94ab9f",
   "metadata": {},
   "outputs": [],
   "source": [
    "## Write your evaluation code in this cell ##"
   ]
  },
  {
   "cell_type": "markdown",
   "id": "eefade82",
   "metadata": {},
   "source": [
    "## 2.5 Exercise\n",
    "\n",
    "Train an MLP with one hidden layer **after normalizing** the Santa Fe dataset. Investigate the model performance with different lags and number of neurons. Explain clearly how you tune the parameters and what the influence is on the final prediction. Which combination of parameters gives the best performance on the test set?"
   ]
  },
  {
   "cell_type": "code",
   "execution_count": null,
   "id": "fc2d207c",
   "metadata": {},
   "outputs": [],
   "source": []
  }
 ],
 "metadata": {
  "kernelspec": {
   "display_name": "anndl",
   "language": "python",
   "name": "anndl"
  },
  "language_info": {
   "codemirror_mode": {
    "name": "ipython",
    "version": 3
   },
   "file_extension": ".py",
   "mimetype": "text/x-python",
   "name": "python",
   "nbconvert_exporter": "python",
   "pygments_lexer": "ipython3",
   "version": "3.10.6"
  }
 },
 "nbformat": 4,
 "nbformat_minor": 5
}
