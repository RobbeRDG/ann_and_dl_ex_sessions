{
 "cells": [
  {
   "cell_type": "code",
   "execution_count": 49,
   "id": "df2d94ce-67bb-4c16-87f8-e0206c9c2799",
   "metadata": {},
   "outputs": [],
   "source": [
    "from datetime import datetime\n",
    "import sys\n",
    "\n",
    "from bayesian_torch.models.dnn_to_bnn import dnn_to_bnn, get_kl_loss\n",
    "import matplotlib.pyplot as plt\n",
    "import torch\n",
    "from torch.utils.tensorboard import SummaryWriter\n",
    "import torchvision\n",
    "from tqdm import tqdm\n",
    "import plotly.express as px\n",
    "\n",
    "from lib.models.mlp import MLP"
   ]
  },
  {
   "cell_type": "markdown",
   "id": "accf889f-71f9-43e1-97dc-d3944d22b956",
   "metadata": {},
   "source": [
    "# 3. Bayesian inference\n",
    "\n",
    "A plain feedforward network is not able to indicate uncertainty about its outputs. When it is given an input that differs a lot from the inputs it received during training, it produces an output with apparently the exact same amount of confidence as when it receives an input similar to the training data.\n",
    "\n",
    "This can be addressed by using Bayesian inference on the weights of the neural network. Instead of using determinstic values for the weights, the weights are represented by *probability distributions over possible values*. Formally, Bayesian inference computes the posterior distribution of the model weights given the training data: $P(\\mathbf{w}| \\mathcal{D})$. A single sample from this distribution contains a value for *all* the network weights of the model.\n",
    "\n",
    "Working directly with $P(\\mathbf{w}| \\mathcal{D})$, however, is not feasible for neural networks of any practical size. Instead, [Blundell et al. (2015)](https://arxiv.org/abs/1505.05424) propose to use a *variational approximation*. Variational learning finds the parameters $\\theta$ of a distribution on the weights $q(\\mathbf{w}|\\theta)$ such that the KL-divergence (a kind of *dissimilarity* measure) between $q(\\mathbf{w}|\\theta)$ and $P(\\mathbf{w}| \\mathcal{D})$ is minimized. In other words: we tweak the parameters $\\theta$ such that $q(\\mathbf{w}|\\theta)$ looks like $P(\\mathbf{w}| \\mathcal{D})$. \n",
    "\n",
    "This *KL-divergence* can be approximated by the following loss function:\n",
    "\n",
    "$$\n",
    "f(\\mathbf{w}, \\theta) = \\sum_{i=1}^n \\log q\\left(\\mathbf{w}^{(i)} \\mid \\theta\\right)-\\log P\\left(\\mathbf{w}^{(i)}\\right) -\\log P\\left(\\mathcal{D} \\mid \\mathbf{w}^{(i)}\\right)\n",
    "$$\n",
    "\n",
    "where $\\mathbf{w}^{(i)}$ is a random sample drawn from $q(\\mathbf{w}|\\theta)$. Note that the first two terms will be low when $q\\left(\\mathbf{w} \\mid \\theta\\right)$ is similar to the prior distribution over the weights $P\\left(\\mathbf{w}\\right)$, i.e., these terms **regularize** the model weights. The last term (the *likelihood cost*) will be low when the sampled network parameters $\\mathbf{w}^{(i)}$ can correctly predict the output of many input samples in the training dataset $\\mathcal{D}$.\n",
    "\n",
    "We want this loss function to be *differentiable* with respect to $\\theta$, such that gradients can be computed and a gradient descent-like optimization algorithm can be used to let $q(\\mathbf{w}|\\theta)$ be more similar to $P(\\mathbf{w}| \\mathcal{D})$.\n",
    "\n",
    "If we assume that $q(\\mathbf{w}|\\theta)$ is a diagonal Gaussian distribution, then $\\theta$ consists of a mean $\\mu$ and a standard deviation $\\sigma$ (note that each of these is a *vector* of the same length as the number of weights in the network). In that case, a sample $\\mathbf{w}^{(i)}$ can be obtained by drawing a random sample $\\epsilon^{(i)}$ from a unit Gaussian, shifting it by $\\mu$ and scaling it by $\\sigma$:\n",
    "\n",
    "$$\n",
    "\\mathbf w^{(i)} = \\mathbf\\mu + \\sigma\\odot \\epsilon,\n",
    "$$\n",
    "\n",
    "with $\\epsilon^{(i)}\\sim\\mathcal{N}(0, I)$ and $\\odot$ an element-wise multiplication. During training, we want to modify $\\mu$ and $\\sigma$ such that the loss function $f(\\mathbf{w}, \\theta)$ is minimized. Directly training $\\sigma$ might not be a good idea, as $\\sigma$ should be strictly positive and we do not have a guarantee that during training $\\sigma$ would only get positive values. Instead, we replace it by a [softplus](https://pytorch.org/docs/stable/generated/torch.nn.Softplus.html) function applied to a parameter $\\rho\\in\\mathbb R$:\n",
    "\n",
    "$$\n",
    "\\mathbf w^{(i)} = \\mathbf\\mu + \\underbrace{\\log\\left(1 + \\exp(\\mathbf\\rho)\\right)}_{= \\sigma}\\odot \\epsilon.\n",
    "$$\n",
    "\n",
    "Parameter $\\rho$ can get both positive and negative values; $\\sigma = \\log\\left(1 + \\exp(\\mathbf\\rho)\\right)$ is guaranteed to be positive.\n",
    "\n",
    "Now, the neural network can be optimized by repeating the following steps:\n",
    "\n",
    "1. Sample $\\epsilon^{(i)}\\sim\\mathcal N(0, I)$\n",
    "2. Let $\\mathbf w^{(i)} = \\mathbf\\mu + \\log\\left(1 + \\exp(\\mathbf\\rho)\\right)\\odot \\epsilon$\n",
    "3. Let $\\theta = (\\mu, \\rho)$\n",
    "4. Let $f(\\mathbf w, \\theta) = \\log q\\left(\\mathbf{w}^{(i)} \\mid \\theta\\right)-\\log P\\left(\\mathbf{w}^{(i)}\\right) P\\left(\\mathcal{D} \\mid \\mathbf{w}^{(i)}\\right)$\n",
    "5. Calculate the gradient of $f$ w.r.t. the mean $\\mu$\n",
    "7. Calculate the gradient of $f$ w.r.t. the standard deviation parameter $\\rho$\n",
    "8. Update the parameters of the variational posterior\n",
    "$$\n",
    "\\begin{aligned}\n",
    "&\\mu \\leftarrow \\mu-\\alpha \\Delta_\\mu \\\\\n",
    "&\\rho \\leftarrow \\rho-\\alpha \\Delta_\\rho .\n",
    "\\end{aligned}\n",
    "$$\n"
   ]
  },
  {
   "cell_type": "markdown",
   "id": "4b5bde52-b598-4a1a-827b-cf8e67fe4dac",
   "metadata": {},
   "source": [
    "## 3.1 Moving an MLP into the Bayesian world\n",
    "\n",
    "With the library [BayesianTorch](https://github.com/IntelLabs/bayesian-torch), we can easily turn any MLP into a network that is ready for some Bayesian inference. Below, we show a code snippet of how you can do this."
   ]
  },
  {
   "cell_type": "code",
   "execution_count": 50,
   "id": "09c761ed-cad9-4095-b09c-0a40b9aededa",
   "metadata": {},
   "outputs": [],
   "source": [
    "const_bnn_prior_parameters = {\n",
    "    \"prior_mu\": 0.0,  # initialize μ of prior P(w), this will not be trained\n",
    "    \"prior_sigma\": 1.0,  # initialize σ of prior P(w), this will not be trained\n",
    "    \"posterior_mu_init\": 0.0,  # initialize μ of var. posterior q(w|θ)\n",
    "    \"posterior_rho_init\": -3.0,  # initialize ρ of var. posterior q(w|θ), with σ = log(1 + exp(ρ))\n",
    "    \"type\": \"Reparameterization\",  # Use algorithm from Blundell et al. (2015)\n",
    "    \"moped_enable\": False,\n",
    "}\n",
    "\n",
    "\n",
    "mlp = MLP(\n",
    "    num_input_neurons=1,\n",
    "    num_hidden_neurons=[100, 100],  # A two-layer network, each hidden layer has 100 neurons,\n",
    "    num_output_neurons=1,\n",
    "    activation='Tanh',\n",
    "    output_activation=None,\n",
    ")\n",
    "\n",
    "dnn_to_bnn(mlp, const_bnn_prior_parameters)"
   ]
  },
  {
   "cell_type": "markdown",
   "id": "d8a27f0d-86f3-4b8a-8258-9cac640527f0",
   "metadata": {},
   "source": [
    "## 3.2 Bayesian training\n",
    "\n",
    "Thanks to BayesianTorch, training this network feel much like training any other network in PyTorch."
   ]
  },
  {
   "cell_type": "code",
   "execution_count": 51,
   "id": "f8431ab1-ee73-4de3-9e70-020ec10d1f35",
   "metadata": {},
   "outputs": [],
   "source": [
    "LOG_DIR = 'runs_bayes'  # This is the name of the directory in which we will put the TensorBoard logs\n",
    "\n",
    "# Create a SummaryWriter instance with a meaningful run name\n",
    "timestamp = datetime.now().strftime('%Y-%M-%dT%H-%M-%S')  # We will append a timestamp to make the run name unique\n",
    "run_name = f'{mlp.num_hidden_neurons}_{timestamp}'\n",
    "writer = SummaryWriter(log_dir=f'{LOG_DIR}/{run_name}')"
   ]
  },
  {
   "cell_type": "markdown",
   "id": "542a7081",
   "metadata": {},
   "source": [
    "Start a new TensorBoard from the OnDemand dashboard with `anndl_es1_files/es1/runs_bayes` as value for the \"Project/Log folder\". You can kill the TensorBoard of the previous notebook."
   ]
  },
  {
   "cell_type": "code",
   "execution_count": 52,
   "id": "145694f4-4308-424c-be86-67496b8f3706",
   "metadata": {},
   "outputs": [
    {
     "name": "stderr",
     "output_type": "stream",
     "text": [
      "100%|██████████| 10000/10000 [00:39<00:00, 252.83it/s]\n"
     ]
    }
   ],
   "source": [
    "# Define dataset\n",
    "x_a = torch.linspace(-1, 0, 100)[:, None]\n",
    "x_b = torch.linspace(0, 1, 2)[:, None]\n",
    "x = torch.cat([x_a, x_b])\n",
    "y = x**2\n",
    "\n",
    "# Create an optimizer\n",
    "optimizer = torch.optim.Adam(mlp.parameters(), lr=0.001)\n",
    "\n",
    "# Create a loss function\n",
    "loss_fn = torch.nn.MSELoss()\n",
    "\n",
    "MAX_EPOCHS = 10000\n",
    "BATCH_SIZE = len(x)\n",
    "\n",
    "for epoch in tqdm(range(MAX_EPOCHS)):\n",
    "    output = mlp(x)\n",
    "    kl = get_kl_loss(mlp) / BATCH_SIZE  # KL divergence between q(w|θ) and the prior P(w)\n",
    "    mse_loss = loss_fn(output, y)  # Likelihood cost\n",
    "    loss = mse_loss + kl\n",
    "    writer.add_scalar('Loss/Train', loss, epoch)\n",
    "\n",
    "    optimizer.zero_grad()\n",
    "    loss.backward()\n",
    "    optimizer.step()"
   ]
  },
  {
   "cell_type": "markdown",
   "id": "849e414b-81f3-4a83-a6ba-d529b695ded9",
   "metadata": {},
   "source": [
    "## 3.3 Bayesian inference\n",
    "\n",
    "Since our MLP is stochastic now, the same input will yield different outputs. By passing the same input multiple times, we approximate the output distribution for that input (i.e., we perform a Monte Carlo simulation) and as such get an idea of how uncertain the network of the output it predicts for the given input. Below, we pass the same test dataset multiple times through the MLP and collect the outputs."
   ]
  },
  {
   "cell_type": "code",
   "execution_count": 53,
   "id": "cda00a7d-97f4-4117-adb6-f14a50cbe7d0",
   "metadata": {},
   "outputs": [
    {
     "name": "stderr",
     "output_type": "stream",
     "text": [
      "100%|██████████| 1000/1000 [00:00<00:00, 3557.77it/s]\n"
     ]
    }
   ],
   "source": [
    "NUM_MONTE_CARLO = 1000\n",
    "\n",
    "# Generate 4 different test inputs (-2, -1, 0, 1)\n",
    "x_test = torch.arange(-2, 2)[:, None]\n",
    "\n",
    "# For each of the 4 different inputs, get 1000 outputs\n",
    "with torch.no_grad():\n",
    "    y_preds = torch.hstack([\n",
    "        mlp(x_test)\n",
    "        for _ in tqdm(range(NUM_MONTE_CARLO))\n",
    "    ])"
   ]
  },
  {
   "cell_type": "markdown",
   "id": "5007ba14-8ebd-4e91-b27b-01def0733ee6",
   "metadata": {},
   "source": [
    "We can compute the mean and standard deviation of the outputs that corresponded to the same inputs like so:"
   ]
  },
  {
   "cell_type": "code",
   "execution_count": 54,
   "id": "743b4b41-4098-4109-9f64-d5483f670271",
   "metadata": {},
   "outputs": [
    {
     "name": "stdout",
     "output_type": "stream",
     "text": [
      "mean: tensor([0.5427, 0.8379, 0.0311, 0.4638]), std: tensor([0.2148, 0.1366, 0.1319, 0.1911])\n"
     ]
    }
   ],
   "source": [
    "y_pred_mean = y_preds.mean(dim=1)\n",
    "y_pred_std = y_preds.std(dim=1)\n",
    "\n",
    "print(f'mean: {y_pred_mean}, std: {y_pred_std}')"
   ]
  },
  {
   "cell_type": "markdown",
   "id": "b2751653-e6df-4cff-af0f-c3dc78b74704",
   "metadata": {},
   "source": [
    "We can now visualize the mean of the predicted values, along with an error band that indicates the model's uncertainty."
   ]
  },
  {
   "cell_type": "code",
   "execution_count": 55,
   "id": "12d9ded1-3e98-426d-98ee-c02d3be33bad",
   "metadata": {},
   "outputs": [
    {
     "data": {
      "text/plain": [
       "<matplotlib.collections.PathCollection at 0x7fcdb6c80910>"
      ]
     },
     "execution_count": 55,
     "metadata": {},
     "output_type": "execute_result"
    },
    {
     "data": {
      "image/png": "[encoded data removed]",
      "text/plain": [
       "<Figure size 640x480 with 1 Axes>"
      ]
     },
     "metadata": {},
     "output_type": "display_data"
    }
   ],
   "source": [
    "fig, ax = plt.subplots()\n",
    "ax.plot(x_test, y_pred_mean.flatten())\n",
    "ax.fill_between(\n",
    "    x_test.flatten(),\n",
    "    (y_pred_mean - y_pred_std).flatten(),\n",
    "    (y_pred_mean + y_pred_std).flatten(),\n",
    "    alpha=0.5\n",
    ")\n",
    "\n",
    "ax.scatter(x, y.flatten(), s=1.0)"
   ]
  },
  {
   "cell_type": "markdown",
   "id": "93ff9448-5403-4d02-acb8-1e2de0bc4011",
   "metadata": {},
   "source": [
    "## 3.4 Exercise\n",
    "\n",
    "Train an MLP for Bayesian inference on the clean and noisy dataset you used in the previous exercise (from the function $y = \\sin(x^2)$) and compare it with the other training algorithms investigated there. Compare the test errors. Consider overparameterized networks (many neurons): do you see any improvement?"
   ]
  },
  {
   "cell_type": "code",
   "execution_count": 56,
   "id": "efef1fa7-8e7a-408c-9218-cd4240711b18",
   "metadata": {},
   "outputs": [],
   "source": [
    "# Generation of the datasets\n",
    "x = torch.arange(0, 3*torch.pi, 0.05)[:, None]\n",
    "y = torch.sin(x**2)\n",
    "\n",
    "# We keep the features (x) the same but add noise to the labels (y)\n",
    "# Generate the noise scalar for the labels\n",
    "noise_scalar = torch.randn_like(y)\n",
    "\n",
    "# Apply the noise scalar to the the labels\n",
    "y_noisy = torch.mul(y, noise_scalar)"
   ]
  },
  {
   "cell_type": "code",
   "execution_count": 57,
   "id": "f46feebb",
   "metadata": {},
   "outputs": [
    {
     "data": {
      "application/vnd.plotly.v1+json": {
       "config": {
        "plotlyServerURL": "https://plot.ly"
       },
       "data": [
        {
         "hovertemplate": "x=%{x}<br>y=%{y}<extra></extra>",
         "legendgroup": "",
         "marker": {
          "color": "#636efa",
          "symbol": "circle"
         },
         "mode": "markers",
         "name": "",
         "orientation": "v",
         "showlegend": false,
         "type": "scatter",
         "x": [
          0,
          0.05000000074505806,
          0.10000000149011612,
          0.15000000596046448,
          0.20000000298023224,
          0.25,
          0.30000001192092896,
          0.3499999940395355,
          0.4000000059604645,
          0.45000001788139343,
          0.5,
          0.550000011920929,
          0.6000000238418579,
          0.6499999761581421,
          0.699999988079071,
          0.75,
          0.800000011920929,
          0.8500000238418579,
          0.9000000357627869,
          0.949999988079071,
          1,
          1.0499999523162842,
          1.100000023841858,
          1.149999976158142,
          1.2000000476837158,
          1.25,
          1.3000000715255737,
          1.350000023841858,
          1.4000000953674316,
          1.4500000476837158,
          1.5,
          1.5500000715255737,
          1.600000023841858,
          1.649999976158142,
          1.7000000476837158,
          1.75,
          1.8000000715255737,
          1.850000023841858,
          1.899999976158142,
          1.9500000476837158,
          2,
          2.049999952316284,
          2.0999999046325684,
          2.1500000953674316,
          2.200000047683716,
          2.25,
          2.299999952316284,
          2.3499999046325684,
          2.4000000953674316,
          2.450000047683716,
          2.5,
          2.5500001907348633,
          2.6000001430511475,
          2.6500000953674316,
          2.700000047683716,
          2.75,
          2.799999952316284,
          2.8499999046325684,
          2.8999998569488525,
          2.950000047683716,
          3,
          3.049999952316284,
          3.0999999046325684,
          3.1499998569488525,
          3.200000047683716,
          3.25,
          3.299999952316284,
          3.3500001430511475,
          3.4000000953674316,
          3.450000047683716,
          3.5,
          3.549999952316284,
          3.5999999046325684,
          3.6499998569488525,
          3.6999998092651367,
          3.75,
          3.799999952316284,
          3.8499999046325684,
          3.8999998569488525,
          3.9499998092651367,
          4,
          4.050000190734863,
          4.099999904632568,
          4.150000095367432,
          4.199999809265137,
          4.25,
          4.300000190734863,
          4.349999904632568,
          4.400000095367432,
          4.450000286102295,
          4.5,
          4.550000190734863,
          4.599999904632568,
          4.650000095367432,
          4.700000286102295,
          4.75,
          4.800000190734863,
          4.850000381469727,
          4.900000095367432,
          4.950000286102295,
          5,
          5.050000190734863,
          5.100000381469727,
          5.150000095367432,
          5.199999809265137,
          5.25,
          5.299999713897705,
          5.349999904632568,
          5.399999618530273,
          5.449999809265137,
          5.5,
          5.549999713897705,
          5.599999904632568,
          5.650000095367432,
          5.699999809265137,
          5.75,
          5.799999713897705,
          5.849999904632568,
          5.900000095367432,
          5.949999809265137,
          6,
          6.050000190734863,
          6.099999904632568,
          6.150000095367432,
          6.199999809265137,
          6.25,
          6.300000190734863,
          6.349999904632568,
          6.400000095367432,
          6.450000286102295,
          6.5,
          6.550000190734863,
          6.599999904632568,
          6.650000095367432,
          6.700000286102295,
          6.75,
          6.800000190734863,
          6.850000381469727,
          6.900000095367432,
          6.950000286102295,
          7,
          7.050000190734863,
          7.100000381469727,
          7.150000095367432,
          7.199999809265137,
          7.25,
          7.299999713897705,
          7.349999904632568,
          7.399999618530273,
          7.449999809265137,
          7.5,
          7.549999713897705,
          7.599999904632568,
          7.650000095367432,
          7.699999809265137,
          7.75,
          7.799999713897705,
          7.849999904632568,
          7.900000095367432,
          7.949999809265137,
          8,
          8.050000190734863,
          8.100000381469727,
          8.149999618530273,
          8.199999809265137,
          8.25,
          8.300000190734863,
          8.350000381469727,
          8.399999618530273,
          8.449999809265137,
          8.5,
          8.549999237060547,
          8.59999942779541,
          8.649999618530273,
          8.699999809265137,
          8.75,
          8.800000190734863,
          8.850000381469727,
          8.899999618530273,
          8.949999809265137,
          9,
          9.050000190734863,
          9.100000381469727,
          9.149999618530273,
          9.199999809265137,
          9.25,
          9.300000190734863,
          9.350000381469727,
          9.399999618530273
         ],
         "xaxis": "x",
         "y": [
          0,
          0.002499997615814209,
          0.0099998340010643,
          0.022498102858662605,
          0.03998933732509613,
          0.0624593161046505,
          0.08987855166196823,
          0.1221938505768776,
          0.1593182235956192,
          0.20111888647079468,
          0.24740396440029144,
          0.29790762066841125,
          0.35227423906326294,
          0.410041868686676,
          0.4706258773803711,
          0.5333026647567749,
          0.5971955060958862,
          0.6612621545791626,
          0.724287211894989,
          0.7848784923553467,
          0.8414709568023682,
          0.8923385143280029,
          0.9356160163879395,
          0.9693325161933899,
          0.9914583563804626,
          0.9999656081199646,
          0.9929036498069763,
          0.9684895277023315,
          0.9252114295959473,
          0.8619444370269775,
          0.7780731916427612,
          0.6736174821853638,
          0.5493552684783936,
          0.40693193674087524,
          0.2489466816186905,
          0.07901021838188171,
          -0.09824883937835693,
          -0.2772276699542999,
          -0.4514656662940979,
          -0.6138336062431335,
          -0.756802499294281,
          -0.8727986216545105,
          -0.9546275734901428,
          -0.9959627389907837,
          -0.9918687343597412,
          -0.9393346309661865,
          -0.8377695083618164,
          -0.6894183158874512,
          -0.49964168667793274,
          -0.2770141363143921,
          -0.03317921608686447,
          0.2175617665052414,
          0.4589521288871765,
          0.6737820506095886,
          0.8451336622238159,
          0.9578191637992859,
          0.9999022483825684,
          0.964165210723877,
          0.8493639826774597,
          0.6610952615737915,
          0.41211849451065063,
          0.12197370082139969,
          -0.18416444957256317,
          -0.4774240553379059,
          -0.7278783917427063,
          -0.9076798558235168,
          -0.9944321513175964,
          -0.9743624925613403,
          -0.8448957204818726,
          -0.6161698698997498,
          -0.31111934781074524,
          0.036121487617492676,
          0.38354191184043884,
          0.6861101984977722,
          0.9016751646995544,
          0.9972137212753296,
          0.9544955492019653,
          0.7742087244987488,
          0.4776379466056824,
          0.10526981204748154,
          -0.2879033088684082,
          -0.6400311589241028,
          -0.892129123210907,
          -0.998417854309082,
          -0.9354600310325623,
          -0.7082780003547668,
          -0.3518570065498352,
          0.07287811487913132,
          0.4885652959346771,
          0.8151254653930664,
          0.9855251312255859,
          0.9604593515396118,
          0.738706111907959,
          0.36035385727882385,
          -0.09869256615638733,
          -0.5407693386077881,
          -0.8668516278266907,
          -0.9992222785949707,
          -0.9012912511825562,
          -0.5893377065658569,
          -0.13235175609588623,
          0.3613927960395813,
          0.768992006778717,
          0.9836575984954834,
          0.9439294338226318,
          0.6532233953475952,
          0.183295339345932,
          -0.34117403626441956,
          -0.7743341326713562,
          -0.9898451566696167,
          -0.9191536903381348,
          -0.5756759643554688,
          -0.05589868128299713,
          0.4851844310760498,
          0.8791479468345642,
          0.997130274772644,
          0.7940989136695862,
          0.3287874460220337,
          -0.249808207154274,
          -0.7479559183120728,
          -0.9917788505554199,
          -0.8896649479866028,
          -0.4698428511619568,
          0.12307742238044739,
          0.6749424934387207,
          0.978567898273468,
          0.9130504727363586,
          0.4953226149082184,
          -0.11901562660932541,
          -0.6902251839637756,
          -0.9869870543479919,
          -0.8818603157997131,
          -0.4098591208457947,
          0.237899512052536,
          0.7880937457084656,
          0.9999557733535767,
          0.773210346698761,
          0.20002689957618713,
          -0.46719077229499817,
          -0.9240778088569641,
          -0.9537526369094849,
          -0.5337080359458923,
          0.14401863515377045,
          0.7558942437171936,
          0.999993085861206,
          0.7476890087127686,
          0.11681072413921356,
          -0.5773047804832458,
          -0.9763585925102234,
          -0.8655107617378235,
          -0.29424721002578735,
          0.43840840458869934,
          0.9360848665237427,
          0.9198733568191528,
          0.38966086506843567,
          -0.36370253562927246,
          -0.9126560091972351,
          -0.9353882670402527,
          -0.4094519019126892,
          0.3622143864631653,
          0.9200260639190674,
          0.9211170077323914,
          0.3554892838001251,
          -0.4341074526309967,
          -0.9540736675262451,
          -0.8686834573745728,
          -0.22314436733722687,
          0.5707880258560181,
          0.9920920133590698,
          0.7540028095245361,
          0.0066309841349720955,
          -0.748538076877594,
          -0.9912262558937073,
          -0.544446587562561,
          0.2876489460468292,
          0.9185024499893188,
          0.8911229372024536,
          0.21560032665729523,
          -0.6211232542991638,
          -0.9999670386314392,
          -0.6298879981040955,
          0.2192980796098709,
          0.9038123488426208,
          0.8914365768432617,
          0.18198251724243164,
          -0.6739173531532288,
          -0.9953756332397461,
          -0.5159240961074829,
          0.3851761519908905
         ],
         "yaxis": "y"
        }
       ],
       "layout": {
        "legend": {
         "tracegroupgap": 0
        },
        "margin": {
         "t": 60
        },
        "template": {
         "data": {
          "bar": [
           {
            "error_x": {
             "color": "#2a3f5f"
            },
            "error_y": {
             "color": "#2a3f5f"
            },
            "marker": {
             "line": {
              "color": "#E5ECF6",
              "width": 0.5
             },
             "pattern": {
              "fillmode": "overlay",
              "size": 10,
              "solidity": 0.2
             }
            },
            "type": "bar"
           }
          ],
          "barpolar": [
           {
            "marker": {
             "line": {
              "color": "#E5ECF6",
              "width": 0.5
             },
             "pattern": {
              "fillmode": "overlay",
              "size": 10,
              "solidity": 0.2
             }
            },
            "type": "barpolar"
           }
          ],
          "carpet": [
           {
            "aaxis": {
             "endlinecolor": "#2a3f5f",
             "gridcolor": "white",
             "linecolor": "white",
             "minorgridcolor": "white",
             "startlinecolor": "#2a3f5f"
            },
            "baxis": {
             "endlinecolor": "#2a3f5f",
             "gridcolor": "white",
             "linecolor": "white",
             "minorgridcolor": "white",
             "startlinecolor": "#2a3f5f"
            },
            "type": "carpet"
           }
          ],
          "choropleth": [
           {
            "colorbar": {
             "outlinewidth": 0,
             "ticks": ""
            },
            "type": "choropleth"
           }
          ],
          "contour": [
           {
            "colorbar": {
             "outlinewidth": 0,
             "ticks": ""
            },
            "colorscale": [
             [
              0,
              "#0d0887"
             ],
             [
              0.1111111111111111,
              "#46039f"
             ],
             [
              0.2222222222222222,
              "#7201a8"
             ],
             [
              0.3333333333333333,
              "#9c179e"
             ],
             [
              0.4444444444444444,
              "#bd3786"
             ],
             [
              0.5555555555555556,
              "#d8576b"
             ],
             [
              0.6666666666666666,
              "#ed7953"
             ],
             [
              0.7777777777777778,
              "#fb9f3a"
             ],
             [
              0.8888888888888888,
              "#fdca26"
             ],
             [
              1,
              "#f0f921"
             ]
            ],
            "type": "contour"
           }
          ],
          "contourcarpet": [
           {
            "colorbar": {
             "outlinewidth": 0,
             "ticks": ""
            },
            "type": "contourcarpet"
           }
          ],
          "heatmap": [
           {
            "colorbar": {
             "outlinewidth": 0,
             "ticks": ""
            },
            "colorscale": [
             [
              0,
              "#0d0887"
             ],
             [
              0.1111111111111111,
              "#46039f"
             ],
             [
              0.2222222222222222,
              "#7201a8"
             ],
             [
              0.3333333333333333,
              "#9c179e"
             ],
             [
              0.4444444444444444,
              "#bd3786"
             ],
             [
              0.5555555555555556,
              "#d8576b"
             ],
             [
              0.6666666666666666,
              "#ed7953"
             ],
             [
              0.7777777777777778,
              "#fb9f3a"
             ],
             [
              0.8888888888888888,
              "#fdca26"
             ],
             [
              1,
              "#f0f921"
             ]
            ],
            "type": "heatmap"
           }
          ],
          "heatmapgl": [
           {
            "colorbar": {
             "outlinewidth": 0,
             "ticks": ""
            },
            "colorscale": [
             [
              0,
              "#0d0887"
             ],
             [
              0.1111111111111111,
              "#46039f"
             ],
             [
              0.2222222222222222,
              "#7201a8"
             ],
             [
              0.3333333333333333,
              "#9c179e"
             ],
             [
              0.4444444444444444,
              "#bd3786"
             ],
             [
              0.5555555555555556,
              "#d8576b"
             ],
             [
              0.6666666666666666,
              "#ed7953"
             ],
             [
              0.7777777777777778,
              "#fb9f3a"
             ],
             [
              0.8888888888888888,
              "#fdca26"
             ],
             [
              1,
              "#f0f921"
             ]
            ],
            "type": "heatmapgl"
           }
          ],
          "histogram": [
           {
            "marker": {
             "pattern": {
              "fillmode": "overlay",
              "size": 10,
              "solidity": 0.2
             }
            },
            "type": "histogram"
           }
          ],
          "histogram2d": [
           {
            "colorbar": {
             "outlinewidth": 0,
             "ticks": ""
            },
            "colorscale": [
             [
              0,
              "#0d0887"
             ],
             [
              0.1111111111111111,
              "#46039f"
             ],
             [
              0.2222222222222222,
              "#7201a8"
             ],
             [
              0.3333333333333333,
              "#9c179e"
             ],
             [
              0.4444444444444444,
              "#bd3786"
             ],
             [
              0.5555555555555556,
              "#d8576b"
             ],
             [
              0.6666666666666666,
              "#ed7953"
             ],
             [
              0.7777777777777778,
              "#fb9f3a"
             ],
             [
              0.8888888888888888,
              "#fdca26"
             ],
             [
              1,
              "#f0f921"
             ]
            ],
            "type": "histogram2d"
           }
          ],
          "histogram2dcontour": [
           {
            "colorbar": {
             "outlinewidth": 0,
             "ticks": ""
            },
            "colorscale": [
             [
              0,
              "#0d0887"
             ],
             [
              0.1111111111111111,
              "#46039f"
             ],
             [
              0.2222222222222222,
              "#7201a8"
             ],
             [
              0.3333333333333333,
              "#9c179e"
             ],
             [
              0.4444444444444444,
              "#bd3786"
             ],
             [
              0.5555555555555556,
              "#d8576b"
             ],
             [
              0.6666666666666666,
              "#ed7953"
             ],
             [
              0.7777777777777778,
              "#fb9f3a"
             ],
             [
              0.8888888888888888,
              "#fdca26"
             ],
             [
              1,
              "#f0f921"
             ]
            ],
            "type": "histogram2dcontour"
           }
          ],
          "mesh3d": [
           {
            "colorbar": {
             "outlinewidth": 0,
             "ticks": ""
            },
            "type": "mesh3d"
           }
          ],
          "parcoords": [
           {
            "line": {
             "colorbar": {
              "outlinewidth": 0,
              "ticks": ""
             }
            },
            "type": "parcoords"
           }
          ],
          "pie": [
           {
            "automargin": true,
            "type": "pie"
           }
          ],
          "scatter": [
           {
            "fillpattern": {
             "fillmode": "overlay",
             "size": 10,
             "solidity": 0.2
            },
            "type": "scatter"
           }
          ],
          "scatter3d": [
           {
            "line": {
             "colorbar": {
              "outlinewidth": 0,
              "ticks": ""
             }
            },
            "marker": {
             "colorbar": {
              "outlinewidth": 0,
              "ticks": ""
             }
            },
            "type": "scatter3d"
           }
          ],
          "scattercarpet": [
           {
            "marker": {
             "colorbar": {
              "outlinewidth": 0,
              "ticks": ""
             }
            },
            "type": "scattercarpet"
           }
          ],
          "scattergeo": [
           {
            "marker": {
             "colorbar": {
              "outlinewidth": 0,
              "ticks": ""
             }
            },
            "type": "scattergeo"
           }
          ],
          "scattergl": [
           {
            "marker": {
             "colorbar": {
              "outlinewidth": 0,
              "ticks": ""
             }
            },
            "type": "scattergl"
           }
          ],
          "scattermapbox": [
           {
            "marker": {
             "colorbar": {
              "outlinewidth": 0,
              "ticks": ""
             }
            },
            "type": "scattermapbox"
           }
          ],
          "scatterpolar": [
           {
            "marker": {
             "colorbar": {
              "outlinewidth": 0,
              "ticks": ""
             }
            },
            "type": "scatterpolar"
           }
          ],
          "scatterpolargl": [
           {
            "marker": {
             "colorbar": {
              "outlinewidth": 0,
              "ticks": ""
             }
            },
            "type": "scatterpolargl"
           }
          ],
          "scatterternary": [
           {
            "marker": {
             "colorbar": {
              "outlinewidth": 0,
              "ticks": ""
             }
            },
            "type": "scatterternary"
           }
          ],
          "surface": [
           {
            "colorbar": {
             "outlinewidth": 0,
             "ticks": ""
            },
            "colorscale": [
             [
              0,
              "#0d0887"
             ],
             [
              0.1111111111111111,
              "#46039f"
             ],
             [
              0.2222222222222222,
              "#7201a8"
             ],
             [
              0.3333333333333333,
              "#9c179e"
             ],
             [
              0.4444444444444444,
              "#bd3786"
             ],
             [
              0.5555555555555556,
              "#d8576b"
             ],
             [
              0.6666666666666666,
              "#ed7953"
             ],
             [
              0.7777777777777778,
              "#fb9f3a"
             ],
             [
              0.8888888888888888,
              "#fdca26"
             ],
             [
              1,
              "#f0f921"
             ]
            ],
            "type": "surface"
           }
          ],
          "table": [
           {
            "cells": {
             "fill": {
              "color": "#EBF0F8"
             },
             "line": {
              "color": "white"
             }
            },
            "header": {
             "fill": {
              "color": "#C8D4E3"
             },
             "line": {
              "color": "white"
             }
            },
            "type": "table"
           }
          ]
         },
         "layout": {
          "annotationdefaults": {
           "arrowcolor": "#2a3f5f",
           "arrowhead": 0,
           "arrowwidth": 1
          },
          "autotypenumbers": "strict",
          "coloraxis": {
           "colorbar": {
            "outlinewidth": 0,
            "ticks": ""
           }
          },
          "colorscale": {
           "diverging": [
            [
             0,
             "#8e0152"
            ],
            [
             0.1,
             "#c51b7d"
            ],
            [
             0.2,
             "#de77ae"
            ],
            [
             0.3,
             "#f1b6da"
            ],
            [
             0.4,
             "#fde0ef"
            ],
            [
             0.5,
             "#f7f7f7"
            ],
            [
             0.6,
             "#e6f5d0"
            ],
            [
             0.7,
             "#b8e186"
            ],
            [
             0.8,
             "#7fbc41"
            ],
            [
             0.9,
             "#4d9221"
            ],
            [
             1,
             "#276419"
            ]
           ],
           "sequential": [
            [
             0,
             "#0d0887"
            ],
            [
             0.1111111111111111,
             "#46039f"
            ],
            [
             0.2222222222222222,
             "#7201a8"
            ],
            [
             0.3333333333333333,
             "#9c179e"
            ],
            [
             0.4444444444444444,
             "#bd3786"
            ],
            [
             0.5555555555555556,
             "#d8576b"
            ],
            [
             0.6666666666666666,
             "#ed7953"
            ],
            [
             0.7777777777777778,
             "#fb9f3a"
            ],
            [
             0.8888888888888888,
             "#fdca26"
            ],
            [
             1,
             "#f0f921"
            ]
           ],
           "sequentialminus": [
            [
             0,
             "#0d0887"
            ],
            [
             0.1111111111111111,
             "#46039f"
            ],
            [
             0.2222222222222222,
             "#7201a8"
            ],
            [
             0.3333333333333333,
             "#9c179e"
            ],
            [
             0.4444444444444444,
             "#bd3786"
            ],
            [
             0.5555555555555556,
             "#d8576b"
            ],
            [
             0.6666666666666666,
             "#ed7953"
            ],
            [
             0.7777777777777778,
             "#fb9f3a"
            ],
            [
             0.8888888888888888,
             "#fdca26"
            ],
            [
             1,
             "#f0f921"
            ]
           ]
          },
          "colorway": [
           "#636efa",
           "#EF553B",
           "#00cc96",
           "#ab63fa",
           "#FFA15A",
           "#19d3f3",
           "#FF6692",
           "#B6E880",
           "#FF97FF",
           "#FECB52"
          ],
          "font": {
           "color": "#2a3f5f"
          },
          "geo": {
           "bgcolor": "white",
           "lakecolor": "white",
           "landcolor": "#E5ECF6",
           "showlakes": true,
           "showland": true,
           "subunitcolor": "white"
          },
          "hoverlabel": {
           "align": "left"
          },
          "hovermode": "closest",
          "mapbox": {
           "style": "light"
          },
          "paper_bgcolor": "white",
          "plot_bgcolor": "#E5ECF6",
          "polar": {
           "angularaxis": {
            "gridcolor": "white",
            "linecolor": "white",
            "ticks": ""
           },
           "bgcolor": "#E5ECF6",
           "radialaxis": {
            "gridcolor": "white",
            "linecolor": "white",
            "ticks": ""
           }
          },
          "scene": {
           "xaxis": {
            "backgroundcolor": "#E5ECF6",
            "gridcolor": "white",
            "gridwidth": 2,
            "linecolor": "white",
            "showbackground": true,
            "ticks": "",
            "zerolinecolor": "white"
           },
           "yaxis": {
            "backgroundcolor": "#E5ECF6",
            "gridcolor": "white",
            "gridwidth": 2,
            "linecolor": "white",
            "showbackground": true,
            "ticks": "",
            "zerolinecolor": "white"
           },
           "zaxis": {
            "backgroundcolor": "#E5ECF6",
            "gridcolor": "white",
            "gridwidth": 2,
            "linecolor": "white",
            "showbackground": true,
            "ticks": "",
            "zerolinecolor": "white"
           }
          },
          "shapedefaults": {
           "line": {
            "color": "#2a3f5f"
           }
          },
          "ternary": {
           "aaxis": {
            "gridcolor": "white",
            "linecolor": "white",
            "ticks": ""
           },
           "baxis": {
            "gridcolor": "white",
            "linecolor": "white",
            "ticks": ""
           },
           "bgcolor": "#E5ECF6",
           "caxis": {
            "gridcolor": "white",
            "linecolor": "white",
            "ticks": ""
           }
          },
          "title": {
           "x": 0.05
          },
          "xaxis": {
           "automargin": true,
           "gridcolor": "white",
           "linecolor": "white",
           "ticks": "",
           "title": {
            "standoff": 15
           },
           "zerolinecolor": "white",
           "zerolinewidth": 2
          },
          "yaxis": {
           "automargin": true,
           "gridcolor": "white",
           "linecolor": "white",
           "ticks": "",
           "title": {
            "standoff": 15
           },
           "zerolinecolor": "white",
           "zerolinewidth": 2
          }
         }
        },
        "xaxis": {
         "anchor": "y",
         "domain": [
          0,
          1
         ],
         "title": {
          "text": "x"
         }
        },
        "yaxis": {
         "anchor": "x",
         "domain": [
          0,
          1
         ],
         "title": {
          "text": "y"
         }
        }
       }
      }
     },
     "metadata": {},
     "output_type": "display_data"
    }
   ],
   "source": [
    "# Plot normal data\n",
    "x_plot = x.reshape(-1)\n",
    "y_plot = y.reshape(-1)\n",
    "\n",
    "fig = px.scatter(x=x_plot.numpy(), y=y_plot.numpy())\n",
    "fig.show()"
   ]
  },
  {
   "cell_type": "code",
   "execution_count": 58,
   "id": "1d33afcf",
   "metadata": {},
   "outputs": [
    {
     "data": {
      "application/vnd.plotly.v1+json": {
       "config": {
        "plotlyServerURL": "https://plot.ly"
       },
       "data": [
        {
         "hovertemplate": "x=%{x}<br>y=%{y}<extra></extra>",
         "legendgroup": "",
         "marker": {
          "color": "#636efa",
          "symbol": "circle"
         },
         "mode": "markers",
         "name": "",
         "orientation": "v",
         "showlegend": false,
         "type": "scatter",
         "x": [
          0,
          0.05000000074505806,
          0.10000000149011612,
          0.15000000596046448,
          0.20000000298023224,
          0.25,
          0.30000001192092896,
          0.3499999940395355,
          0.4000000059604645,
          0.45000001788139343,
          0.5,
          0.550000011920929,
          0.6000000238418579,
          0.6499999761581421,
          0.699999988079071,
          0.75,
          0.800000011920929,
          0.8500000238418579,
          0.9000000357627869,
          0.949999988079071,
          1,
          1.0499999523162842,
          1.100000023841858,
          1.149999976158142,
          1.2000000476837158,
          1.25,
          1.3000000715255737,
          1.350000023841858,
          1.4000000953674316,
          1.4500000476837158,
          1.5,
          1.5500000715255737,
          1.600000023841858,
          1.649999976158142,
          1.7000000476837158,
          1.75,
          1.8000000715255737,
          1.850000023841858,
          1.899999976158142,
          1.9500000476837158,
          2,
          2.049999952316284,
          2.0999999046325684,
          2.1500000953674316,
          2.200000047683716,
          2.25,
          2.299999952316284,
          2.3499999046325684,
          2.4000000953674316,
          2.450000047683716,
          2.5,
          2.5500001907348633,
          2.6000001430511475,
          2.6500000953674316,
          2.700000047683716,
          2.75,
          2.799999952316284,
          2.8499999046325684,
          2.8999998569488525,
          2.950000047683716,
          3,
          3.049999952316284,
          3.0999999046325684,
          3.1499998569488525,
          3.200000047683716,
          3.25,
          3.299999952316284,
          3.3500001430511475,
          3.4000000953674316,
          3.450000047683716,
          3.5,
          3.549999952316284,
          3.5999999046325684,
          3.6499998569488525,
          3.6999998092651367,
          3.75,
          3.799999952316284,
          3.8499999046325684,
          3.8999998569488525,
          3.9499998092651367,
          4,
          4.050000190734863,
          4.099999904632568,
          4.150000095367432,
          4.199999809265137,
          4.25,
          4.300000190734863,
          4.349999904632568,
          4.400000095367432,
          4.450000286102295,
          4.5,
          4.550000190734863,
          4.599999904632568,
          4.650000095367432,
          4.700000286102295,
          4.75,
          4.800000190734863,
          4.850000381469727,
          4.900000095367432,
          4.950000286102295,
          5,
          5.050000190734863,
          5.100000381469727,
          5.150000095367432,
          5.199999809265137,
          5.25,
          5.299999713897705,
          5.349999904632568,
          5.399999618530273,
          5.449999809265137,
          5.5,
          5.549999713897705,
          5.599999904632568,
          5.650000095367432,
          5.699999809265137,
          5.75,
          5.799999713897705,
          5.849999904632568,
          5.900000095367432,
          5.949999809265137,
          6,
          6.050000190734863,
          6.099999904632568,
          6.150000095367432,
          6.199999809265137,
          6.25,
          6.300000190734863,
          6.349999904632568,
          6.400000095367432,
          6.450000286102295,
          6.5,
          6.550000190734863,
          6.599999904632568,
          6.650000095367432,
          6.700000286102295,
          6.75,
          6.800000190734863,
          6.850000381469727,
          6.900000095367432,
          6.950000286102295,
          7,
          7.050000190734863,
          7.100000381469727,
          7.150000095367432,
          7.199999809265137,
          7.25,
          7.299999713897705,
          7.349999904632568,
          7.399999618530273,
          7.449999809265137,
          7.5,
          7.549999713897705,
          7.599999904632568,
          7.650000095367432,
          7.699999809265137,
          7.75,
          7.799999713897705,
          7.849999904632568,
          7.900000095367432,
          7.949999809265137,
          8,
          8.050000190734863,
          8.100000381469727,
          8.149999618530273,
          8.199999809265137,
          8.25,
          8.300000190734863,
          8.350000381469727,
          8.399999618530273,
          8.449999809265137,
          8.5,
          8.549999237060547,
          8.59999942779541,
          8.649999618530273,
          8.699999809265137,
          8.75,
          8.800000190734863,
          8.850000381469727,
          8.899999618530273,
          8.949999809265137,
          9,
          9.050000190734863,
          9.100000381469727,
          9.149999618530273,
          9.199999809265137,
          9.25,
          9.300000190734863,
          9.350000381469727,
          9.399999618530273
         ],
         "xaxis": "x",
         "y": [
          0,
          0.00036980537697672844,
          0.004315466154366732,
          -0.008232282474637032,
          0.0524754635989666,
          -0.08455905318260193,
          0.0035205730237066746,
          0.08465263992547989,
          -0.0972149446606636,
          0.30169185996055603,
          -0.23060594499111176,
          -0.2524617612361908,
          0.463185578584671,
          -0.3734884262084961,
          0.06034386530518532,
          0.8052675127983093,
          -0.6382322311401367,
          -0.5771662592887878,
          0.6367263197898865,
          0.323813259601593,
          -0.4351833462715149,
          -0.70572829246521,
          1.836469054222107,
          -0.6783233284950256,
          0.3948584198951721,
          0.279188334941864,
          -1.0523377656936646,
          0.05666034296154976,
          -0.1437225043773651,
          0.3670498728752136,
          0.2771432101726532,
          -0.28083980083465576,
          -0.9556207656860352,
          -0.8133959770202637,
          0.22583220899105072,
          0.07920260727405548,
          0.05648067966103554,
          0.3356218636035919,
          0.3333292007446289,
          -0.39247778058052063,
          0.33466237783432007,
          0.0661173015832901,
          -1.2598793506622314,
          -0.9281697869300842,
          0.8596092462539673,
          -0.8678838014602661,
          1.1416884660720825,
          0.26440876722335815,
          -0.29862165451049805,
          -0.07055260241031647,
          0.010092681273818016,
          -0.036349792033433914,
          0.04462840035557747,
          0.3893745541572571,
          -1.522579312324524,
          -1.0140902996063232,
          -0.8378898501396179,
          0.268351674079895,
          -0.016796011477708817,
          -0.6915987730026245,
          0.003942611161619425,
          0.22508825361728668,
          -0.18096020817756653,
          0.7613318562507629,
          -1.2655174732208252,
          -0.4469590485095978,
          -0.1772165149450302,
          0.48045018315315247,
          -0.5997903943061829,
          0.3828979432582855,
          -0.04329805448651314,
          0.006822578608989716,
          -0.14286014437675476,
          0.1142861396074295,
          -0.995920717716217,
          1.7016193866729736,
          -0.7475154995918274,
          0.29627519845962524,
          -0.1985112726688385,
          -0.2454925924539566,
          -0.48205825686454773,
          -1.9828258752822876,
          -1.070117712020874,
          0.23265628516674042,
          1.3928289413452148,
          0.5039373636245728,
          -0.05562669783830643,
          -0.04561873897910118,
          -0.6257530450820923,
          0.14732925593852997,
          -1.3763374090194702,
          1.1502164602279663,
          -0.8117163777351379,
          -0.07771346718072891,
          0.054739754647016525,
          0.432677686214447,
          1.3286916017532349,
          -0.07589373737573624,
          -0.596731424331665,
          -0.45291683077812195,
          0.06020262837409973,
          0.26465553045272827,
          0.8769607543945312,
          -0.9389822483062744,
          0.47233954071998596,
          0.12663701176643372,
          -0.059847392141819,
          0.18334999680519104,
          -0.7035105228424072,
          -0.8856930732727051,
          0.07614598423242569,
          -0.4495214819908142,
          0.06474018096923828,
          -0.13073696196079254,
          -0.5436677932739258,
          -0.05078711360692978,
          0.9423261284828186,
          -0.7018566131591797,
          -0.08368890732526779,
          0.5154687166213989,
          0.8101252913475037,
          -1.7515770196914673,
          -0.2791261076927185,
          -0.1451910436153412,
          0.4997335970401764,
          -0.6549007892608643,
          0.2204795628786087,
          0.9019072651863098,
          -0.07399991899728775,
          -0.9119764566421509,
          0.7455931901931763,
          -0.5669422745704651,
          -0.16590729355812073,
          0.0095124626532197,
          0.4109005928039551,
          1.9455925226211548,
          -0.07845690846443176,
          -0.08888228982686996,
          0.1335822194814682,
          0.145588219165802,
          1.0631375312805176,
          -0.5891987681388855,
          0.05697939917445183,
          0.09192749857902527,
          -0.8744070529937744,
          1.0194904804229736,
          0.037075724452733994,
          0.5085957050323486,
          0.7691746354103088,
          -0.29610463976860046,
          0.0010459359036758542,
          0.2820190191268921,
          -0.07158298790454865,
          0.4171614646911621,
          0.27637410163879395,
          -0.3912074863910675,
          0.2923133373260498,
          -1.0092979669570923,
          -1.450643539428711,
          0.6501895785331726,
          -0.3306198716163635,
          -0.5780653357505798,
          0.17617733776569366,
          -0.10457618534564972,
          0.9952095746994019,
          1.1957160234451294,
          -0.10688871890306473,
          0.5348368883132935,
          0.5295743942260742,
          -0.354018896818161,
          -0.010448792017996311,
          -0.4750126898288727,
          -0.7191317081451416,
          0.6140368580818176,
          0.25586095452308655,
          -0.15601421892642975,
          -0.10465783625841141,
          0.09989047050476074,
          0.3686324656009674,
          -1.2542740106582642,
          0.5868334174156189,
          -0.31835058331489563,
          1.477412223815918,
          -1.1275233030319214,
          0.13699571788311005,
          0.3290327787399292,
          -0.6783767342567444,
          0.277325302362442,
          -0.3033719062805176
         ],
         "yaxis": "y"
        }
       ],
       "layout": {
        "legend": {
         "tracegroupgap": 0
        },
        "margin": {
         "t": 60
        },
        "template": {
         "data": {
          "bar": [
           {
            "error_x": {
             "color": "#2a3f5f"
            },
            "error_y": {
             "color": "#2a3f5f"
            },
            "marker": {
             "line": {
              "color": "#E5ECF6",
              "width": 0.5
             },
             "pattern": {
              "fillmode": "overlay",
              "size": 10,
              "solidity": 0.2
             }
            },
            "type": "bar"
           }
          ],
          "barpolar": [
           {
            "marker": {
             "line": {
              "color": "#E5ECF6",
              "width": 0.5
             },
             "pattern": {
              "fillmode": "overlay",
              "size": 10,
              "solidity": 0.2
             }
            },
            "type": "barpolar"
           }
          ],
          "carpet": [
           {
            "aaxis": {
             "endlinecolor": "#2a3f5f",
             "gridcolor": "white",
             "linecolor": "white",
             "minorgridcolor": "white",
             "startlinecolor": "#2a3f5f"
            },
            "baxis": {
             "endlinecolor": "#2a3f5f",
             "gridcolor": "white",
             "linecolor": "white",
             "minorgridcolor": "white",
             "startlinecolor": "#2a3f5f"
            },
            "type": "carpet"
           }
          ],
          "choropleth": [
           {
            "colorbar": {
             "outlinewidth": 0,
             "ticks": ""
            },
            "type": "choropleth"
           }
          ],
          "contour": [
           {
            "colorbar": {
             "outlinewidth": 0,
             "ticks": ""
            },
            "colorscale": [
             [
              0,
              "#0d0887"
             ],
             [
              0.1111111111111111,
              "#46039f"
             ],
             [
              0.2222222222222222,
              "#7201a8"
             ],
             [
              0.3333333333333333,
              "#9c179e"
             ],
             [
              0.4444444444444444,
              "#bd3786"
             ],
             [
              0.5555555555555556,
              "#d8576b"
             ],
             [
              0.6666666666666666,
              "#ed7953"
             ],
             [
              0.7777777777777778,
              "#fb9f3a"
             ],
             [
              0.8888888888888888,
              "#fdca26"
             ],
             [
              1,
              "#f0f921"
             ]
            ],
            "type": "contour"
           }
          ],
          "contourcarpet": [
           {
            "colorbar": {
             "outlinewidth": 0,
             "ticks": ""
            },
            "type": "contourcarpet"
           }
          ],
          "heatmap": [
           {
            "colorbar": {
             "outlinewidth": 0,
             "ticks": ""
            },
            "colorscale": [
             [
              0,
              "#0d0887"
             ],
             [
              0.1111111111111111,
              "#46039f"
             ],
             [
              0.2222222222222222,
              "#7201a8"
             ],
             [
              0.3333333333333333,
              "#9c179e"
             ],
             [
              0.4444444444444444,
              "#bd3786"
             ],
             [
              0.5555555555555556,
              "#d8576b"
             ],
             [
              0.6666666666666666,
              "#ed7953"
             ],
             [
              0.7777777777777778,
              "#fb9f3a"
             ],
             [
              0.8888888888888888,
              "#fdca26"
             ],
             [
              1,
              "#f0f921"
             ]
            ],
            "type": "heatmap"
           }
          ],
          "heatmapgl": [
           {
            "colorbar": {
             "outlinewidth": 0,
             "ticks": ""
            },
            "colorscale": [
             [
              0,
              "#0d0887"
             ],
             [
              0.1111111111111111,
              "#46039f"
             ],
             [
              0.2222222222222222,
              "#7201a8"
             ],
             [
              0.3333333333333333,
              "#9c179e"
             ],
             [
              0.4444444444444444,
              "#bd3786"
             ],
             [
              0.5555555555555556,
              "#d8576b"
             ],
             [
              0.6666666666666666,
              "#ed7953"
             ],
             [
              0.7777777777777778,
              "#fb9f3a"
             ],
             [
              0.8888888888888888,
              "#fdca26"
             ],
             [
              1,
              "#f0f921"
             ]
            ],
            "type": "heatmapgl"
           }
          ],
          "histogram": [
           {
            "marker": {
             "pattern": {
              "fillmode": "overlay",
              "size": 10,
              "solidity": 0.2
             }
            },
            "type": "histogram"
           }
          ],
          "histogram2d": [
           {
            "colorbar": {
             "outlinewidth": 0,
             "ticks": ""
            },
            "colorscale": [
             [
              0,
              "#0d0887"
             ],
             [
              0.1111111111111111,
              "#46039f"
             ],
             [
              0.2222222222222222,
              "#7201a8"
             ],
             [
              0.3333333333333333,
              "#9c179e"
             ],
             [
              0.4444444444444444,
              "#bd3786"
             ],
             [
              0.5555555555555556,
              "#d8576b"
             ],
             [
              0.6666666666666666,
              "#ed7953"
             ],
             [
              0.7777777777777778,
              "#fb9f3a"
             ],
             [
              0.8888888888888888,
              "#fdca26"
             ],
             [
              1,
              "#f0f921"
             ]
            ],
            "type": "histogram2d"
           }
          ],
          "histogram2dcontour": [
           {
            "colorbar": {
             "outlinewidth": 0,
             "ticks": ""
            },
            "colorscale": [
             [
              0,
              "#0d0887"
             ],
             [
              0.1111111111111111,
              "#46039f"
             ],
             [
              0.2222222222222222,
              "#7201a8"
             ],
             [
              0.3333333333333333,
              "#9c179e"
             ],
             [
              0.4444444444444444,
              "#bd3786"
             ],
             [
              0.5555555555555556,
              "#d8576b"
             ],
             [
              0.6666666666666666,
              "#ed7953"
             ],
             [
              0.7777777777777778,
              "#fb9f3a"
             ],
             [
              0.8888888888888888,
              "#fdca26"
             ],
             [
              1,
              "#f0f921"
             ]
            ],
            "type": "histogram2dcontour"
           }
          ],
          "mesh3d": [
           {
            "colorbar": {
             "outlinewidth": 0,
             "ticks": ""
            },
            "type": "mesh3d"
           }
          ],
          "parcoords": [
           {
            "line": {
             "colorbar": {
              "outlinewidth": 0,
              "ticks": ""
             }
            },
            "type": "parcoords"
           }
          ],
          "pie": [
           {
            "automargin": true,
            "type": "pie"
           }
          ],
          "scatter": [
           {
            "fillpattern": {
             "fillmode": "overlay",
             "size": 10,
             "solidity": 0.2
            },
            "type": "scatter"
           }
          ],
          "scatter3d": [
           {
            "line": {
             "colorbar": {
              "outlinewidth": 0,
              "ticks": ""
             }
            },
            "marker": {
             "colorbar": {
              "outlinewidth": 0,
              "ticks": ""
             }
            },
            "type": "scatter3d"
           }
          ],
          "scattercarpet": [
           {
            "marker": {
             "colorbar": {
              "outlinewidth": 0,
              "ticks": ""
             }
            },
            "type": "scattercarpet"
           }
          ],
          "scattergeo": [
           {
            "marker": {
             "colorbar": {
              "outlinewidth": 0,
              "ticks": ""
             }
            },
            "type": "scattergeo"
           }
          ],
          "scattergl": [
           {
            "marker": {
             "colorbar": {
              "outlinewidth": 0,
              "ticks": ""
             }
            },
            "type": "scattergl"
           }
          ],
          "scattermapbox": [
           {
            "marker": {
             "colorbar": {
              "outlinewidth": 0,
              "ticks": ""
             }
            },
            "type": "scattermapbox"
           }
          ],
          "scatterpolar": [
           {
            "marker": {
             "colorbar": {
              "outlinewidth": 0,
              "ticks": ""
             }
            },
            "type": "scatterpolar"
           }
          ],
          "scatterpolargl": [
           {
            "marker": {
             "colorbar": {
              "outlinewidth": 0,
              "ticks": ""
             }
            },
            "type": "scatterpolargl"
           }
          ],
          "scatterternary": [
           {
            "marker": {
             "colorbar": {
              "outlinewidth": 0,
              "ticks": ""
             }
            },
            "type": "scatterternary"
           }
          ],
          "surface": [
           {
            "colorbar": {
             "outlinewidth": 0,
             "ticks": ""
            },
            "colorscale": [
             [
              0,
              "#0d0887"
             ],
             [
              0.1111111111111111,
              "#46039f"
             ],
             [
              0.2222222222222222,
              "#7201a8"
             ],
             [
              0.3333333333333333,
              "#9c179e"
             ],
             [
              0.4444444444444444,
              "#bd3786"
             ],
             [
              0.5555555555555556,
              "#d8576b"
             ],
             [
              0.6666666666666666,
              "#ed7953"
             ],
             [
              0.7777777777777778,
              "#fb9f3a"
             ],
             [
              0.8888888888888888,
              "#fdca26"
             ],
             [
              1,
              "#f0f921"
             ]
            ],
            "type": "surface"
           }
          ],
          "table": [
           {
            "cells": {
             "fill": {
              "color": "#EBF0F8"
             },
             "line": {
              "color": "white"
             }
            },
            "header": {
             "fill": {
              "color": "#C8D4E3"
             },
             "line": {
              "color": "white"
             }
            },
            "type": "table"
           }
          ]
         },
         "layout": {
          "annotationdefaults": {
           "arrowcolor": "#2a3f5f",
           "arrowhead": 0,
           "arrowwidth": 1
          },
          "autotypenumbers": "strict",
          "coloraxis": {
           "colorbar": {
            "outlinewidth": 0,
            "ticks": ""
           }
          },
          "colorscale": {
           "diverging": [
            [
             0,
             "#8e0152"
            ],
            [
             0.1,
             "#c51b7d"
            ],
            [
             0.2,
             "#de77ae"
            ],
            [
             0.3,
             "#f1b6da"
            ],
            [
             0.4,
             "#fde0ef"
            ],
            [
             0.5,
             "#f7f7f7"
            ],
            [
             0.6,
             "#e6f5d0"
            ],
            [
             0.7,
             "#b8e186"
            ],
            [
             0.8,
             "#7fbc41"
            ],
            [
             0.9,
             "#4d9221"
            ],
            [
             1,
             "#276419"
            ]
           ],
           "sequential": [
            [
             0,
             "#0d0887"
            ],
            [
             0.1111111111111111,
             "#46039f"
            ],
            [
             0.2222222222222222,
             "#7201a8"
            ],
            [
             0.3333333333333333,
             "#9c179e"
            ],
            [
             0.4444444444444444,
             "#bd3786"
            ],
            [
             0.5555555555555556,
             "#d8576b"
            ],
            [
             0.6666666666666666,
             "#ed7953"
            ],
            [
             0.7777777777777778,
             "#fb9f3a"
            ],
            [
             0.8888888888888888,
             "#fdca26"
            ],
            [
             1,
             "#f0f921"
            ]
           ],
           "sequentialminus": [
            [
             0,
             "#0d0887"
            ],
            [
             0.1111111111111111,
             "#46039f"
            ],
            [
             0.2222222222222222,
             "#7201a8"
            ],
            [
             0.3333333333333333,
             "#9c179e"
            ],
            [
             0.4444444444444444,
             "#bd3786"
            ],
            [
             0.5555555555555556,
             "#d8576b"
            ],
            [
             0.6666666666666666,
             "#ed7953"
            ],
            [
             0.7777777777777778,
             "#fb9f3a"
            ],
            [
             0.8888888888888888,
             "#fdca26"
            ],
            [
             1,
             "#f0f921"
            ]
           ]
          },
          "colorway": [
           "#636efa",
           "#EF553B",
           "#00cc96",
           "#ab63fa",
           "#FFA15A",
           "#19d3f3",
           "#FF6692",
           "#B6E880",
           "#FF97FF",
           "#FECB52"
          ],
          "font": {
           "color": "#2a3f5f"
          },
          "geo": {
           "bgcolor": "white",
           "lakecolor": "white",
           "landcolor": "#E5ECF6",
           "showlakes": true,
           "showland": true,
           "subunitcolor": "white"
          },
          "hoverlabel": {
           "align": "left"
          },
          "hovermode": "closest",
          "mapbox": {
           "style": "light"
          },
          "paper_bgcolor": "white",
          "plot_bgcolor": "#E5ECF6",
          "polar": {
           "angularaxis": {
            "gridcolor": "white",
            "linecolor": "white",
            "ticks": ""
           },
           "bgcolor": "#E5ECF6",
           "radialaxis": {
            "gridcolor": "white",
            "linecolor": "white",
            "ticks": ""
           }
          },
          "scene": {
           "xaxis": {
            "backgroundcolor": "#E5ECF6",
            "gridcolor": "white",
            "gridwidth": 2,
            "linecolor": "white",
            "showbackground": true,
            "ticks": "",
            "zerolinecolor": "white"
           },
           "yaxis": {
            "backgroundcolor": "#E5ECF6",
            "gridcolor": "white",
            "gridwidth": 2,
            "linecolor": "white",
            "showbackground": true,
            "ticks": "",
            "zerolinecolor": "white"
           },
           "zaxis": {
            "backgroundcolor": "#E5ECF6",
            "gridcolor": "white",
            "gridwidth": 2,
            "linecolor": "white",
            "showbackground": true,
            "ticks": "",
            "zerolinecolor": "white"
           }
          },
          "shapedefaults": {
           "line": {
            "color": "#2a3f5f"
           }
          },
          "ternary": {
           "aaxis": {
            "gridcolor": "white",
            "linecolor": "white",
            "ticks": ""
           },
           "baxis": {
            "gridcolor": "white",
            "linecolor": "white",
            "ticks": ""
           },
           "bgcolor": "#E5ECF6",
           "caxis": {
            "gridcolor": "white",
            "linecolor": "white",
            "ticks": ""
           }
          },
          "title": {
           "x": 0.05
          },
          "xaxis": {
           "automargin": true,
           "gridcolor": "white",
           "linecolor": "white",
           "ticks": "",
           "title": {
            "standoff": 15
           },
           "zerolinecolor": "white",
           "zerolinewidth": 2
          },
          "yaxis": {
           "automargin": true,
           "gridcolor": "white",
           "linecolor": "white",
           "ticks": "",
           "title": {
            "standoff": 15
           },
           "zerolinecolor": "white",
           "zerolinewidth": 2
          }
         }
        },
        "xaxis": {
         "anchor": "y",
         "domain": [
          0,
          1
         ],
         "title": {
          "text": "x"
         }
        },
        "yaxis": {
         "anchor": "x",
         "domain": [
          0,
          1
         ],
         "title": {
          "text": "y"
         }
        }
       }
      }
     },
     "metadata": {},
     "output_type": "display_data"
    }
   ],
   "source": [
    "# Plot noisy data\n",
    "x_plot = x.reshape(-1)\n",
    "y_noisy_plot = y_noisy.reshape(-1)\n",
    "\n",
    "fig = px.scatter(x=x_plot.numpy(), y=y_noisy_plot.numpy())\n",
    "fig.show()"
   ]
  },
  {
   "cell_type": "code",
   "execution_count": 59,
   "id": "8f043f9c",
   "metadata": {},
   "outputs": [
    {
     "name": "stderr",
     "output_type": "stream",
     "text": [
      "  1%|          | 500/60000 [00:02<03:46, 263.21it/s]"
     ]
    }
   ],
   "source": [
    "# Normal data\n",
    "# 1. Define your model\n",
    "const_bnn_prior_parameters = {\n",
    "    \"prior_mu\": 0.0,  # initialize μ of prior P(w), this will not be trained\n",
    "    \"prior_sigma\": 1.0,  # initialize σ of prior P(w), this will not be trained\n",
    "    \"posterior_mu_init\": 0.0,  # initialize μ of var. posterior q(w|θ)\n",
    "    \"posterior_rho_init\": -3.0,  # initialize ρ of var. posterior q(w|θ), with σ = log(1 + exp(ρ))\n",
    "    \"type\": \"Reparameterization\",  # Use algorithm from Blundell et al. (2015)\n",
    "    \"moped_enable\": False,\n",
    "}\n",
    "mlp_normal = MLP(\n",
    "    num_input_neurons=1,\n",
    "    num_hidden_neurons=[100, 100],  # A two-layer network, each hidden layer has 100 neurons,\n",
    "    num_output_neurons=1,\n",
    "    activation='Tanh',\n",
    "    output_activation=None,\n",
    ")\n",
    "dnn_to_bnn(mlp_normal, const_bnn_prior_parameters)\n",
    "\n",
    "# 2. Create an optimizer\n",
    "optimizer = torch.optim.Adam(mlp_normal.parameters(), lr=0.01)\n",
    "\n",
    "# 3. Create a loss function\n",
    "loss_fn = torch.nn.MSELoss()\n",
    "\n",
    "# Create a SummaryWriter instance\n",
    "timestamp = datetime.now().strftime('%Y-%M-%dT%H-%M-%S')\n",
    "run_name = f'not_noisy_{timestamp}'\n",
    "writer = SummaryWriter(log_dir=f'{LOG_DIR}/{run_name}')\n",
    "\n",
    "# Train\n",
    "MAX_EPOCHS = 60000\n",
    "BATCH_SIZE = len(x)\n",
    "for epoch in tqdm(range(MAX_EPOCHS)):\n",
    "    output = mlp_normal(x)\n",
    "    kl = get_kl_loss(mlp_normal) / BATCH_SIZE  # KL divergence between q(w|θ) and the prior P(w)\n",
    "    mse_loss = loss_fn(output, y)  # Likelihood cost\n",
    "    loss = mse_loss + kl\n",
    "    writer.add_scalar('Loss/Train', mse_loss, epoch)\n",
    "\n",
    "    optimizer.zero_grad()\n",
    "    loss.backward()\n",
    "    optimizer.step()"
   ]
  },
  {
   "cell_type": "code",
   "execution_count": null,
   "id": "b29db908",
   "metadata": {},
   "outputs": [
    {
     "name": "stderr",
     "output_type": "stream",
     "text": [
      "100%|██████████| 1000/1000 [00:00<00:00, 3856.09it/s]"
     ]
    },
    {
     "name": "stdout",
     "output_type": "stream",
     "text": [
      "mean: tensor([ 0.0047,  0.1225,  0.1225, -0.5183]), std: tensor([0.0812, 0.1024, 0.1024, 0.2302])\n"
     ]
    },
    {
     "name": "stderr",
     "output_type": "stream",
     "text": [
      "\n"
     ]
    }
   ],
   "source": [
    "# Generate 2 different test inputs (pi and 5pi)\n",
    "x_test = torch.tensor([[0.0],[0.5],[1.5],[torch.pi]])\n",
    "\n",
    "# For each of the 4 different inputs, get 1000 outputs\n",
    "with torch.no_grad():\n",
    "    y_preds = torch.hstack([\n",
    "        mlp_normal(x_test)\n",
    "        for _ in tqdm(range(1000))\n",
    "    ])\n",
    "\n",
    "# Calculate the distribution of the outputs\n",
    "y_pred_mean = y_preds.mean(dim=1)\n",
    "y_pred_std = y_preds.std(dim=1)\n",
    "\n",
    "print(f'mean: {y_pred_mean}, std: {y_pred_std}')"
   ]
  },
  {
   "cell_type": "code",
   "execution_count": null,
   "id": "50cae78d",
   "metadata": {},
   "outputs": [
    {
     "name": "stderr",
     "output_type": "stream",
     "text": [
      "100%|██████████| 60000/60000 [03:24<00:00, 292.91it/s]\n"
     ]
    }
   ],
   "source": [
    "# Noisy data\n",
    "# 1. Define your model\n",
    "const_bnn_prior_parameters = {\n",
    "    \"prior_mu\": 0.0,  # initialize μ of prior P(w), this will not be trained\n",
    "    \"prior_sigma\": 1.0,  # initialize σ of prior P(w), this will not be trained\n",
    "    \"posterior_mu_init\": 0.0,  # initialize μ of var. posterior q(w|θ)\n",
    "    \"posterior_rho_init\": -3.0,  # initialize ρ of var. posterior q(w|θ), with σ = log(1 + exp(ρ))\n",
    "    \"type\": \"Reparameterization\",  # Use algorithm from Blundell et al. (2015)\n",
    "    \"moped_enable\": False,\n",
    "}\n",
    "mlp_noise = MLP(\n",
    "    num_input_neurons=1,\n",
    "    num_hidden_neurons=[100, 100],  # A two-layer network, each hidden layer has 100 neurons,\n",
    "    num_output_neurons=1,\n",
    "    activation='Tanh',\n",
    "    output_activation=None,\n",
    ")\n",
    "dnn_to_bnn(mlp_noise, const_bnn_prior_parameters)\n",
    "\n",
    "# 2. Create an optimizer\n",
    "optimizer = torch.optim.Adam(mlp_noise.parameters(), lr=0.01)\n",
    "\n",
    "# 3. Create a loss function\n",
    "loss_fn = torch.nn.MSELoss()\n",
    "\n",
    "# Create a SummaryWriter instance\n",
    "timestamp = datetime.now().strftime('%Y-%M-%dT%H-%M-%S')\n",
    "run_name = f'noisy_{timestamp}'\n",
    "writer = SummaryWriter(log_dir=f'{LOG_DIR}/{run_name}')\n",
    "\n",
    "# Train\n",
    "MAX_EPOCHS = 60000\n",
    "BATCH_SIZE = len(x)\n",
    "for epoch in tqdm(range(MAX_EPOCHS)):\n",
    "    output = mlp_noise(x)\n",
    "    kl = get_kl_loss(mlp_noise) / BATCH_SIZE  # KL divergence between q(w|θ) and the prior P(w)\n",
    "    mse_loss = loss_fn(output, y_noisy)  # Likelihood cost\n",
    "    loss = mse_loss + kl\n",
    "    writer.add_scalar('Loss/Train', mse_loss, epoch)\n",
    "\n",
    "    optimizer.zero_grad()\n",
    "    loss.backward()\n",
    "    optimizer.step()"
   ]
  },
  {
   "cell_type": "code",
   "execution_count": null,
   "id": "40a3340a",
   "metadata": {},
   "outputs": [
    {
     "name": "stderr",
     "output_type": "stream",
     "text": [
      "100%|██████████| 1000/1000 [00:00<00:00, 5557.25it/s]"
     ]
    },
    {
     "name": "stdout",
     "output_type": "stream",
     "text": [
      "mean: tensor([-0.0070, -0.0604,  0.3294,  0.5391]), std: tensor([0.0980, 0.0814, 0.0911, 0.0918])\n"
     ]
    },
    {
     "name": "stderr",
     "output_type": "stream",
     "text": [
      "\n"
     ]
    }
   ],
   "source": [
    "# Generate 2 different test inputs (pi and 5pi)\n",
    "x_test = torch.tensor([[0.0],[0.5],[1.5],[torch.pi]])\n",
    "\n",
    "# For each of the 4 different inputs, get 1000 outputs\n",
    "with torch.no_grad():\n",
    "    y_preds = torch.hstack([\n",
    "        mlp_noise(x_test)\n",
    "        for _ in tqdm(range(1000))\n",
    "    ])\n",
    "\n",
    "# Calculate the distribution of the outputs\n",
    "y_pred_mean = y_preds.mean(dim=1)\n",
    "y_pred_std = y_preds.std(dim=1)\n",
    "\n",
    "print(f'mean: {y_pred_mean}, std: {y_pred_std}')"
   ]
  },
  {
   "cell_type": "markdown",
   "id": "3da5c34a",
   "metadata": {},
   "source": [
    "# 4. Report\n",
    "\n",
    "Based on the previous exercises of section 2.5 and 3.4, write a report of maximum 4 pages (including text + figures) to discuss the main differences, (dis)advantages, speed, overfitting & generalization of different learning schemes. Show your understanding by explaining all concepts, interpreting your obtained results and making connections to the seen theory."
   ]
  }
 ],
 "metadata": {
  "kernelspec": {
   "display_name": "Python 3.10.8 ('anndl')",
   "language": "python",
   "name": "python3"
  },
  "language_info": {
   "codemirror_mode": {
    "name": "ipython",
    "version": 3
   },
   "file_extension": ".py",
   "mimetype": "text/x-python",
   "name": "python",
   "nbconvert_exporter": "python",
   "pygments_lexer": "ipython3",
   "version": "3.10.8 (main, Nov 24 2022, 14:13:03) [GCC 11.2.0]"
  },
  "vscode": {
   "interpreter": {
    "hash": "5f299b0a30a695930222e2b85814db2feaa48d467a39d54db5a092acf936d7d6"
   }
  }
 },
 "nbformat": 4,
 "nbformat_minor": 5
}
